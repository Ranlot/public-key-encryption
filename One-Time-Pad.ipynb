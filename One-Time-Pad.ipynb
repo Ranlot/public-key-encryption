{
 "cells": [
  {
   "cell_type": "code",
   "execution_count": 1,
   "metadata": {},
   "outputs": [],
   "source": [
    "from tabulate import tabulate\n",
    "import numpy as np\n",
    "import matplotlib.pyplot as plt"
   ]
  },
  {
   "cell_type": "markdown",
   "metadata": {},
   "source": [
    "### Some helper functions\n",
    "\n",
    "In the rest of the notebook, we will often need to convert between text and binary based representations of strings."
   ]
  },
  {
   "cell_type": "code",
   "execution_count": 2,
   "metadata": {},
   "outputs": [],
   "source": [
    "def text2binary(textString):\n",
    "    binaryString = ''.join(map(lambda c: bin(ord(c))[2:].zfill(8), textString))\n",
    "    assert len(binaryString) == len(textString) * 8\n",
    "    return binaryString\n",
    "\n",
    "def binary2text(binaryString):\n",
    "    assert len(binaryString) % 8 == 0\n",
    "    codes = [binaryString[_ : _ + 8] for _ in range(0, len(binaryString), 8)]\n",
    "    textString = ''.join([chr(int(c, 2)) for c in codes])\n",
    "    assert len(textString) == len(codes)\n",
    "    return textString"
   ]
  },
  {
   "cell_type": "code",
   "execution_count": 3,
   "metadata": {},
   "outputs": [
    {
     "name": "stdout",
     "output_type": "stream",
     "text": [
      "010010000110010101101100011011000110111100100000010101110110111101110010011011000110010000100001\n",
      "Hello World!\n"
     ]
    }
   ],
   "source": [
    "print(text2binary('Hello World!'))\n",
    "print(binary2text(text2binary('Hello World!')))"
   ]
  },
  {
   "cell_type": "markdown",
   "metadata": {},
   "source": [
    "# One time pad\n",
    "\n",
    "### 1.1) XOR\n",
    "\n",
    "$\\texttt{XOR (x, y)}$ denoted as $x \\oplus y$ is the exclusive $\\texttt{OR}$ logical operation on two bits $x$ and $y$ defined as\n",
    "\n",
    "$$ x \\oplus y= x + y \\,\\,\\text{mod}\\,\\, 2$$"
   ]
  },
  {
   "cell_type": "code",
   "execution_count": 4,
   "metadata": {},
   "outputs": [],
   "source": [
    "def XOR(x, y):\n",
    "    return str((int(x) + int(y)) % 2)"
   ]
  },
  {
   "cell_type": "code",
   "execution_count": 5,
   "metadata": {},
   "outputs": [
    {
     "name": "stdout",
     "output_type": "stream",
     "text": [
      "Truth table\n",
      "------  -\n",
      "(0, 0)  0\n",
      "(0, 1)  1\n",
      "(1, 0)  1\n",
      "(1, 1)  0\n",
      "------  -\n"
     ]
    }
   ],
   "source": [
    "print('Truth table')\n",
    "print(tabulate([((x, y), XOR(x, y)) for (x, y) in [(0, 0), (0, 1), (1, 0), (1, 1)]]))"
   ]
  },
  {
   "cell_type": "markdown",
   "metadata": {},
   "source": [
    "### 1.2) Secret key\n",
    "\n",
    "One-time pad is a symmetric encryption algorithm .  As such we need to generate and share a secret key."
   ]
  },
  {
   "cell_type": "code",
   "execution_count": 6,
   "metadata": {},
   "outputs": [],
   "source": [
    "def generate_secret_key(number_of_bits):\n",
    "    return np.random.randint(0, 2, number_of_bits)"
   ]
  },
  {
   "cell_type": "markdown",
   "metadata": {},
   "source": [
    "Although the one-time pad **cannot be cracked** as we will exemplify in the **perfect secrecy** section, the main drawback is that the shared secret key can only be used to send a single message.  If we already have a way to safely communicate the secret key then we might as well have sent the message directly to begin with...  We will see below that information about the messages can very easily be recovered in case the same secret key is re-used.\n",
    "\n",
    "### 1.3) Encryption / decryption functions\n",
    "\n",
    "Now that we have a method to create random secret key $s$, let us consider a plaintext message $m$ encoded as a sequence of bits using the ``text2binary`` method.  One-time pad encryption is given by\n",
    "\\begin{equation}\n",
    "c \\equiv \\mathcal{E}(m) = m \\oplus s\n",
    "\\end{equation}\n",
    "\n",
    "If the recipient of the encrypted cipher $c$ also has access to the secret key $s$, the cipher can be decrypted by evaluating\n",
    "\n",
    "\\begin{equation}\n",
    "\\mathcal{D}(c) = c \\oplus s\n",
    "\\end{equation}\n",
    "\n",
    "In order to see why $\\mathcal{D}(c)$ always returns the original message, remember that $c = m \\oplus s$.  Therefore, $c \\oplus s = m \\oplus s \\oplus s = m$"
   ]
  },
  {
   "cell_type": "code",
   "execution_count": 7,
   "metadata": {},
   "outputs": [],
   "source": [
    "def sequence_XOR(xs, ys):\n",
    "    return ''.join([XOR(x, y) for (x, y) in zip(xs, ys)])\n",
    "\n",
    "def encrypt(message, secret_key):\n",
    "    assert len(message) == len(secret_key)\n",
    "    return sequence_XOR(message, secret_key)\n",
    "\n",
    "def decrypt(cipher, secret_key):\n",
    "    assert len(cipher) == len(secret_key)\n",
    "    return sequence_XOR(cipher, secret_key)"
   ]
  },
  {
   "cell_type": "markdown",
   "metadata": {},
   "source": [
    "## 1) Perfect secrecy"
   ]
  },
  {
   "cell_type": "markdown",
   "metadata": {},
   "source": [
    "As mentioned above, one-time pad encryption has the remarkable property of being impossible to break.  \n",
    "\n",
    "In contrast to other encryption schemes, one-time pad is immune even to brute-force attacks.  This is because, given a truly random key that is used only once, a ciphertext can be decrypted into any possible message with equal probability.  This is related to the truth table of $\\texttt{XOR}$ that has a 50% chance of returning 0 or 1.   \n",
    "\n",
    "In other words, the ciphertext $c$ gives absolutely no information about the plaintext $m$ (other than the maximum possible length of the message)\n",
    "\n",
    "### 1.1) Encrypt a message"
   ]
  },
  {
   "cell_type": "code",
   "execution_count": 8,
   "metadata": {},
   "outputs": [
    {
     "name": "stdout",
     "output_type": "stream",
     "text": [
      "secret_key =  1011100000001110\n",
      "cipher =      1101011101100101\n"
     ]
    }
   ],
   "source": [
    "message = 'ok'\n",
    "\n",
    "secret_key = generate_secret_key(len(message) * 8)\n",
    "print('secret_key = ', ''.join(secret_key.astype(str)))\n",
    "\n",
    "cipher = encrypt(text2binary(message), secret_key)\n",
    "print('cipher =     ', cipher)"
   ]
  },
  {
   "cell_type": "markdown",
   "metadata": {},
   "source": [
    "### 1.2) Brute-force testing all the possible keys\n",
    "\n",
    "Let's imagine that we have intercepted the cipher $c$ and try to guess the secret key $s$.  The total number of possible keys grows exponentially with the size of the secret key"
   ]
  },
  {
   "cell_type": "code",
   "execution_count": 9,
   "metadata": {},
   "outputs": [
    {
     "name": "stdout",
     "output_type": "stream",
     "text": [
      "65536\n"
     ]
    }
   ],
   "source": [
    "number_of_keys = 2 ** len(secret_key)\n",
    "print(number_of_keys)"
   ]
  },
  {
   "cell_type": "markdown",
   "metadata": {},
   "source": [
    "As long as the secret key is short, it is quite easy to generate all the possible keys"
   ]
  },
  {
   "cell_type": "code",
   "execution_count": 10,
   "metadata": {},
   "outputs": [],
   "source": [
    "all_keys = [bin(possible_key)[2:].zfill(len(secret_key)) for possible_key in range(number_of_keys)]"
   ]
  },
  {
   "cell_type": "code",
   "execution_count": 11,
   "metadata": {},
   "outputs": [
    {
     "name": "stdout",
     "output_type": "stream",
     "text": [
      "['0000000000000000', '0000000000000001', '0000000000000010', '0000000000000011', '0000000000000100', '0000000000000101', '0000000000000110', '0000000000000111', '0000000000001000', '0000000000001001', '0000000000001010', '0000000000001011', '0000000000001100', '0000000000001101', '0000000000001110']\n",
      "['1111111111110001', '1111111111110010', '1111111111110011', '1111111111110100', '1111111111110101', '1111111111110110', '1111111111110111', '1111111111111000', '1111111111111001', '1111111111111010', '1111111111111011', '1111111111111100', '1111111111111101', '1111111111111110', '1111111111111111']\n"
     ]
    }
   ],
   "source": [
    "print(all_keys[:15])\n",
    "print(all_keys[-15:])"
   ]
  },
  {
   "cell_type": "markdown",
   "metadata": {},
   "source": [
    "Then, we can try to decrypt the cipher $c$ using each one of the possible keys and look for a message that makes sense."
   ]
  },
  {
   "cell_type": "code",
   "execution_count": 12,
   "metadata": {},
   "outputs": [],
   "source": [
    "all_decryptions = [binary2text(decrypt(cipher, possible_key)) for possible_key in all_keys]"
   ]
  },
  {
   "cell_type": "code",
   "execution_count": 13,
   "metadata": {},
   "outputs": [
    {
     "name": "stdout",
     "output_type": "stream",
     "text": [
      "['×e', '×d', '×g', '×f', '×a', '×`', '×c', '×b', '×m', '×l', '×o', '×n', '×i', '×h', '×k']\n",
      "['(\\x94', '(\\x97', '(\\x96', '(\\x91', '(\\x90', '(\\x93', '(\\x92', '(\\x9d', '(\\x9c', '(\\x9f', '(\\x9e', '(\\x99', '(\\x98', '(\\x9b', '(\\x9a']\n"
     ]
    }
   ],
   "source": [
    "print(all_decryptions[:15])\n",
    "print(all_decryptions[-15:])"
   ]
  },
  {
   "cell_type": "markdown",
   "metadata": {},
   "source": [
    "Filtering to decryptions composed of lower case ASCII letters, we discover that all possible combinations of letters appear as potential decryptions!"
   ]
  },
  {
   "cell_type": "code",
   "execution_count": 14,
   "metadata": {},
   "outputs": [
    {
     "data": {
      "text/plain": [
       "['aa',\n",
       " 'ab',\n",
       " 'ac',\n",
       " 'ad',\n",
       " 'ae',\n",
       " 'af',\n",
       " 'ag',\n",
       " 'ah',\n",
       " 'ai',\n",
       " 'aj',\n",
       " 'ak',\n",
       " 'al',\n",
       " 'am',\n",
       " 'an',\n",
       " 'ao',\n",
       " 'ap',\n",
       " 'aq',\n",
       " 'ar',\n",
       " 'as',\n",
       " 'at',\n",
       " 'au',\n",
       " 'av',\n",
       " 'aw',\n",
       " 'ax',\n",
       " 'ay',\n",
       " 'az',\n",
       " 'ba',\n",
       " 'bb',\n",
       " 'bc',\n",
       " 'bd',\n",
       " 'be',\n",
       " 'bf',\n",
       " 'bg',\n",
       " 'bh',\n",
       " 'bi',\n",
       " 'bj',\n",
       " 'bk',\n",
       " 'bl',\n",
       " 'bm',\n",
       " 'bn',\n",
       " 'bo',\n",
       " 'bp',\n",
       " 'bq',\n",
       " 'br',\n",
       " 'bs',\n",
       " 'bt',\n",
       " 'bu',\n",
       " 'bv',\n",
       " 'bw',\n",
       " 'bx',\n",
       " 'by',\n",
       " 'bz',\n",
       " 'ca',\n",
       " 'cb',\n",
       " 'cc',\n",
       " 'cd',\n",
       " 'ce',\n",
       " 'cf',\n",
       " 'cg',\n",
       " 'ch',\n",
       " 'ci',\n",
       " 'cj',\n",
       " 'ck',\n",
       " 'cl',\n",
       " 'cm',\n",
       " 'cn',\n",
       " 'co',\n",
       " 'cp',\n",
       " 'cq',\n",
       " 'cr',\n",
       " 'cs',\n",
       " 'ct',\n",
       " 'cu',\n",
       " 'cv',\n",
       " 'cw',\n",
       " 'cx',\n",
       " 'cy',\n",
       " 'cz',\n",
       " 'da',\n",
       " 'db',\n",
       " 'dc',\n",
       " 'dd',\n",
       " 'de',\n",
       " 'df',\n",
       " 'dg',\n",
       " 'dh',\n",
       " 'di',\n",
       " 'dj',\n",
       " 'dk',\n",
       " 'dl',\n",
       " 'dm',\n",
       " 'dn',\n",
       " 'do',\n",
       " 'dp',\n",
       " 'dq',\n",
       " 'dr',\n",
       " 'ds',\n",
       " 'dt',\n",
       " 'du',\n",
       " 'dv',\n",
       " 'dw',\n",
       " 'dx',\n",
       " 'dy',\n",
       " 'dz',\n",
       " 'ea',\n",
       " 'eb',\n",
       " 'ec',\n",
       " 'ed',\n",
       " 'ee',\n",
       " 'ef',\n",
       " 'eg',\n",
       " 'eh',\n",
       " 'ei',\n",
       " 'ej',\n",
       " 'ek',\n",
       " 'el',\n",
       " 'em',\n",
       " 'en',\n",
       " 'eo',\n",
       " 'ep',\n",
       " 'eq',\n",
       " 'er',\n",
       " 'es',\n",
       " 'et',\n",
       " 'eu',\n",
       " 'ev',\n",
       " 'ew',\n",
       " 'ex',\n",
       " 'ey',\n",
       " 'ez',\n",
       " 'fa',\n",
       " 'fb',\n",
       " 'fc',\n",
       " 'fd',\n",
       " 'fe',\n",
       " 'ff',\n",
       " 'fg',\n",
       " 'fh',\n",
       " 'fi',\n",
       " 'fj',\n",
       " 'fk',\n",
       " 'fl',\n",
       " 'fm',\n",
       " 'fn',\n",
       " 'fo',\n",
       " 'fp',\n",
       " 'fq',\n",
       " 'fr',\n",
       " 'fs',\n",
       " 'ft',\n",
       " 'fu',\n",
       " 'fv',\n",
       " 'fw',\n",
       " 'fx',\n",
       " 'fy',\n",
       " 'fz',\n",
       " 'ga',\n",
       " 'gb',\n",
       " 'gc',\n",
       " 'gd',\n",
       " 'ge',\n",
       " 'gf',\n",
       " 'gg',\n",
       " 'gh',\n",
       " 'gi',\n",
       " 'gj',\n",
       " 'gk',\n",
       " 'gl',\n",
       " 'gm',\n",
       " 'gn',\n",
       " 'go',\n",
       " 'gp',\n",
       " 'gq',\n",
       " 'gr',\n",
       " 'gs',\n",
       " 'gt',\n",
       " 'gu',\n",
       " 'gv',\n",
       " 'gw',\n",
       " 'gx',\n",
       " 'gy',\n",
       " 'gz',\n",
       " 'ha',\n",
       " 'hb',\n",
       " 'hc',\n",
       " 'hd',\n",
       " 'he',\n",
       " 'hf',\n",
       " 'hg',\n",
       " 'hh',\n",
       " 'hi',\n",
       " 'hj',\n",
       " 'hk',\n",
       " 'hl',\n",
       " 'hm',\n",
       " 'hn',\n",
       " 'ho',\n",
       " 'hp',\n",
       " 'hq',\n",
       " 'hr',\n",
       " 'hs',\n",
       " 'ht',\n",
       " 'hu',\n",
       " 'hv',\n",
       " 'hw',\n",
       " 'hx',\n",
       " 'hy',\n",
       " 'hz',\n",
       " 'ia',\n",
       " 'ib',\n",
       " 'ic',\n",
       " 'id',\n",
       " 'ie',\n",
       " 'if',\n",
       " 'ig',\n",
       " 'ih',\n",
       " 'ii',\n",
       " 'ij',\n",
       " 'ik',\n",
       " 'il',\n",
       " 'im',\n",
       " 'in',\n",
       " 'io',\n",
       " 'ip',\n",
       " 'iq',\n",
       " 'ir',\n",
       " 'is',\n",
       " 'it',\n",
       " 'iu',\n",
       " 'iv',\n",
       " 'iw',\n",
       " 'ix',\n",
       " 'iy',\n",
       " 'iz',\n",
       " 'ja',\n",
       " 'jb',\n",
       " 'jc',\n",
       " 'jd',\n",
       " 'je',\n",
       " 'jf',\n",
       " 'jg',\n",
       " 'jh',\n",
       " 'ji',\n",
       " 'jj',\n",
       " 'jk',\n",
       " 'jl',\n",
       " 'jm',\n",
       " 'jn',\n",
       " 'jo',\n",
       " 'jp',\n",
       " 'jq',\n",
       " 'jr',\n",
       " 'js',\n",
       " 'jt',\n",
       " 'ju',\n",
       " 'jv',\n",
       " 'jw',\n",
       " 'jx',\n",
       " 'jy',\n",
       " 'jz',\n",
       " 'ka',\n",
       " 'kb',\n",
       " 'kc',\n",
       " 'kd',\n",
       " 'ke',\n",
       " 'kf',\n",
       " 'kg',\n",
       " 'kh',\n",
       " 'ki',\n",
       " 'kj',\n",
       " 'kk',\n",
       " 'kl',\n",
       " 'km',\n",
       " 'kn',\n",
       " 'ko',\n",
       " 'kp',\n",
       " 'kq',\n",
       " 'kr',\n",
       " 'ks',\n",
       " 'kt',\n",
       " 'ku',\n",
       " 'kv',\n",
       " 'kw',\n",
       " 'kx',\n",
       " 'ky',\n",
       " 'kz',\n",
       " 'la',\n",
       " 'lb',\n",
       " 'lc',\n",
       " 'ld',\n",
       " 'le',\n",
       " 'lf',\n",
       " 'lg',\n",
       " 'lh',\n",
       " 'li',\n",
       " 'lj',\n",
       " 'lk',\n",
       " 'll',\n",
       " 'lm',\n",
       " 'ln',\n",
       " 'lo',\n",
       " 'lp',\n",
       " 'lq',\n",
       " 'lr',\n",
       " 'ls',\n",
       " 'lt',\n",
       " 'lu',\n",
       " 'lv',\n",
       " 'lw',\n",
       " 'lx',\n",
       " 'ly',\n",
       " 'lz',\n",
       " 'ma',\n",
       " 'mb',\n",
       " 'mc',\n",
       " 'md',\n",
       " 'me',\n",
       " 'mf',\n",
       " 'mg',\n",
       " 'mh',\n",
       " 'mi',\n",
       " 'mj',\n",
       " 'mk',\n",
       " 'ml',\n",
       " 'mm',\n",
       " 'mn',\n",
       " 'mo',\n",
       " 'mp',\n",
       " 'mq',\n",
       " 'mr',\n",
       " 'ms',\n",
       " 'mt',\n",
       " 'mu',\n",
       " 'mv',\n",
       " 'mw',\n",
       " 'mx',\n",
       " 'my',\n",
       " 'mz',\n",
       " 'na',\n",
       " 'nb',\n",
       " 'nc',\n",
       " 'nd',\n",
       " 'ne',\n",
       " 'nf',\n",
       " 'ng',\n",
       " 'nh',\n",
       " 'ni',\n",
       " 'nj',\n",
       " 'nk',\n",
       " 'nl',\n",
       " 'nm',\n",
       " 'nn',\n",
       " 'no',\n",
       " 'np',\n",
       " 'nq',\n",
       " 'nr',\n",
       " 'ns',\n",
       " 'nt',\n",
       " 'nu',\n",
       " 'nv',\n",
       " 'nw',\n",
       " 'nx',\n",
       " 'ny',\n",
       " 'nz',\n",
       " 'oa',\n",
       " 'ob',\n",
       " 'oc',\n",
       " 'od',\n",
       " 'oe',\n",
       " 'of',\n",
       " 'og',\n",
       " 'oh',\n",
       " 'oi',\n",
       " 'oj',\n",
       " 'ok',\n",
       " 'ol',\n",
       " 'om',\n",
       " 'on',\n",
       " 'oo',\n",
       " 'op',\n",
       " 'oq',\n",
       " 'or',\n",
       " 'os',\n",
       " 'ot',\n",
       " 'ou',\n",
       " 'ov',\n",
       " 'ow',\n",
       " 'ox',\n",
       " 'oy',\n",
       " 'oz',\n",
       " 'pa',\n",
       " 'pb',\n",
       " 'pc',\n",
       " 'pd',\n",
       " 'pe',\n",
       " 'pf',\n",
       " 'pg',\n",
       " 'ph',\n",
       " 'pi',\n",
       " 'pj',\n",
       " 'pk',\n",
       " 'pl',\n",
       " 'pm',\n",
       " 'pn',\n",
       " 'po',\n",
       " 'pp',\n",
       " 'pq',\n",
       " 'pr',\n",
       " 'ps',\n",
       " 'pt',\n",
       " 'pu',\n",
       " 'pv',\n",
       " 'pw',\n",
       " 'px',\n",
       " 'py',\n",
       " 'pz',\n",
       " 'qa',\n",
       " 'qb',\n",
       " 'qc',\n",
       " 'qd',\n",
       " 'qe',\n",
       " 'qf',\n",
       " 'qg',\n",
       " 'qh',\n",
       " 'qi',\n",
       " 'qj',\n",
       " 'qk',\n",
       " 'ql',\n",
       " 'qm',\n",
       " 'qn',\n",
       " 'qo',\n",
       " 'qp',\n",
       " 'qq',\n",
       " 'qr',\n",
       " 'qs',\n",
       " 'qt',\n",
       " 'qu',\n",
       " 'qv',\n",
       " 'qw',\n",
       " 'qx',\n",
       " 'qy',\n",
       " 'qz',\n",
       " 'ra',\n",
       " 'rb',\n",
       " 'rc',\n",
       " 'rd',\n",
       " 're',\n",
       " 'rf',\n",
       " 'rg',\n",
       " 'rh',\n",
       " 'ri',\n",
       " 'rj',\n",
       " 'rk',\n",
       " 'rl',\n",
       " 'rm',\n",
       " 'rn',\n",
       " 'ro',\n",
       " 'rp',\n",
       " 'rq',\n",
       " 'rr',\n",
       " 'rs',\n",
       " 'rt',\n",
       " 'ru',\n",
       " 'rv',\n",
       " 'rw',\n",
       " 'rx',\n",
       " 'ry',\n",
       " 'rz',\n",
       " 'sa',\n",
       " 'sb',\n",
       " 'sc',\n",
       " 'sd',\n",
       " 'se',\n",
       " 'sf',\n",
       " 'sg',\n",
       " 'sh',\n",
       " 'si',\n",
       " 'sj',\n",
       " 'sk',\n",
       " 'sl',\n",
       " 'sm',\n",
       " 'sn',\n",
       " 'so',\n",
       " 'sp',\n",
       " 'sq',\n",
       " 'sr',\n",
       " 'ss',\n",
       " 'st',\n",
       " 'su',\n",
       " 'sv',\n",
       " 'sw',\n",
       " 'sx',\n",
       " 'sy',\n",
       " 'sz',\n",
       " 'ta',\n",
       " 'tb',\n",
       " 'tc',\n",
       " 'td',\n",
       " 'te',\n",
       " 'tf',\n",
       " 'tg',\n",
       " 'th',\n",
       " 'ti',\n",
       " 'tj',\n",
       " 'tk',\n",
       " 'tl',\n",
       " 'tm',\n",
       " 'tn',\n",
       " 'to',\n",
       " 'tp',\n",
       " 'tq',\n",
       " 'tr',\n",
       " 'ts',\n",
       " 'tt',\n",
       " 'tu',\n",
       " 'tv',\n",
       " 'tw',\n",
       " 'tx',\n",
       " 'ty',\n",
       " 'tz',\n",
       " 'ua',\n",
       " 'ub',\n",
       " 'uc',\n",
       " 'ud',\n",
       " 'ue',\n",
       " 'uf',\n",
       " 'ug',\n",
       " 'uh',\n",
       " 'ui',\n",
       " 'uj',\n",
       " 'uk',\n",
       " 'ul',\n",
       " 'um',\n",
       " 'un',\n",
       " 'uo',\n",
       " 'up',\n",
       " 'uq',\n",
       " 'ur',\n",
       " 'us',\n",
       " 'ut',\n",
       " 'uu',\n",
       " 'uv',\n",
       " 'uw',\n",
       " 'ux',\n",
       " 'uy',\n",
       " 'uz',\n",
       " 'va',\n",
       " 'vb',\n",
       " 'vc',\n",
       " 'vd',\n",
       " 've',\n",
       " 'vf',\n",
       " 'vg',\n",
       " 'vh',\n",
       " 'vi',\n",
       " 'vj',\n",
       " 'vk',\n",
       " 'vl',\n",
       " 'vm',\n",
       " 'vn',\n",
       " 'vo',\n",
       " 'vp',\n",
       " 'vq',\n",
       " 'vr',\n",
       " 'vs',\n",
       " 'vt',\n",
       " 'vu',\n",
       " 'vv',\n",
       " 'vw',\n",
       " 'vx',\n",
       " 'vy',\n",
       " 'vz',\n",
       " 'wa',\n",
       " 'wb',\n",
       " 'wc',\n",
       " 'wd',\n",
       " 'we',\n",
       " 'wf',\n",
       " 'wg',\n",
       " 'wh',\n",
       " 'wi',\n",
       " 'wj',\n",
       " 'wk',\n",
       " 'wl',\n",
       " 'wm',\n",
       " 'wn',\n",
       " 'wo',\n",
       " 'wp',\n",
       " 'wq',\n",
       " 'wr',\n",
       " 'ws',\n",
       " 'wt',\n",
       " 'wu',\n",
       " 'wv',\n",
       " 'ww',\n",
       " 'wx',\n",
       " 'wy',\n",
       " 'wz',\n",
       " 'xa',\n",
       " 'xb',\n",
       " 'xc',\n",
       " 'xd',\n",
       " 'xe',\n",
       " 'xf',\n",
       " 'xg',\n",
       " 'xh',\n",
       " 'xi',\n",
       " 'xj',\n",
       " 'xk',\n",
       " 'xl',\n",
       " 'xm',\n",
       " 'xn',\n",
       " 'xo',\n",
       " 'xp',\n",
       " 'xq',\n",
       " 'xr',\n",
       " 'xs',\n",
       " 'xt',\n",
       " 'xu',\n",
       " 'xv',\n",
       " 'xw',\n",
       " 'xx',\n",
       " 'xy',\n",
       " 'xz',\n",
       " 'ya',\n",
       " 'yb',\n",
       " 'yc',\n",
       " 'yd',\n",
       " 'ye',\n",
       " 'yf',\n",
       " 'yg',\n",
       " 'yh',\n",
       " 'yi',\n",
       " 'yj',\n",
       " 'yk',\n",
       " 'yl',\n",
       " 'ym',\n",
       " 'yn',\n",
       " 'yo',\n",
       " 'yp',\n",
       " 'yq',\n",
       " 'yr',\n",
       " 'ys',\n",
       " 'yt',\n",
       " 'yu',\n",
       " 'yv',\n",
       " 'yw',\n",
       " 'yx',\n",
       " 'yy',\n",
       " 'yz',\n",
       " 'za',\n",
       " 'zb',\n",
       " 'zc',\n",
       " 'zd',\n",
       " 'ze',\n",
       " 'zf',\n",
       " 'zg',\n",
       " 'zh',\n",
       " 'zi',\n",
       " 'zj',\n",
       " 'zk',\n",
       " 'zl',\n",
       " 'zm',\n",
       " 'zn',\n",
       " 'zo',\n",
       " 'zp',\n",
       " 'zq',\n",
       " 'zr',\n",
       " 'zs',\n",
       " 'zt',\n",
       " 'zu',\n",
       " 'zv',\n",
       " 'zw',\n",
       " 'zx',\n",
       " 'zy',\n",
       " 'zz']"
      ]
     },
     "execution_count": 14,
     "metadata": {},
     "output_type": "execute_result"
    }
   ],
   "source": [
    "decryptions = filter(lambda d: all([97 <= ord(c) <= 122 for c in d]), all_decryptions)\n",
    "decryptions = sorted(decryptions)\n",
    "assert len(decryptions) == 26 * 26\n",
    "decryptions"
   ]
  },
  {
   "cell_type": "markdown",
   "metadata": {},
   "source": [
    "This means that trying all possible secret keys only leads to all possible messages and therefore does not really lead to any new information about the ciphertext."
   ]
  },
  {
   "cell_type": "markdown",
   "metadata": {},
   "source": [
    "## 2) Reusing the same key more than once\n",
    "\n",
    "### 2.1) Loading the original images to send"
   ]
  },
  {
   "cell_type": "code",
   "execution_count": 15,
   "metadata": {},
   "outputs": [],
   "source": [
    "from PIL import Image\n",
    "\n",
    "IMG_SIZE, THRESH = 500, 200"
   ]
  },
  {
   "cell_type": "code",
   "execution_count": 16,
   "metadata": {},
   "outputs": [],
   "source": [
    "fn = lambda x : 255 if x > THRESH else 0\n",
    "\n",
    "im1 = Image.open('figs/sendCash.jpg').resize((IMG_SIZE, IMG_SIZE)).convert('L').point(fn, mode='1')\n",
    "im2 = Image.open('figs/smiley.jpg').resize((IMG_SIZE, IMG_SIZE)).convert('L').point(fn, mode='1')\n",
    "\n",
    "msg1, msg2 = 1 * np.asarray(im1), 1 * np.asarray(im2)"
   ]
  },
  {
   "cell_type": "code",
   "execution_count": 17,
   "metadata": {},
   "outputs": [
    {
     "data": {
      "image/png": "[encoded data removed]",
      "text/plain": [
       "<Figure size 432x288 with 2 Axes>"
      ]
     },
     "metadata": {},
     "output_type": "display_data"
    }
   ],
   "source": [
    "fig, ax = plt.subplots(1,2)\n",
    "ax[0].imshow(im1); ax[0].set_xticks([]); ax[0].set_yticks([]); \n",
    "ax[1].imshow(im2); ax[1].set_xticks([]); ax[1].set_yticks([]);"
   ]
  },
  {
   "cell_type": "markdown",
   "metadata": {},
   "source": [
    "### 2.2) Create the secret key\n",
    "\n",
    "The length of the key needs to be the same as the number of pixels in the images"
   ]
  },
  {
   "cell_type": "code",
   "execution_count": 18,
   "metadata": {},
   "outputs": [
    {
     "name": "stdout",
     "output_type": "stream",
     "text": [
      "(250000,)\n"
     ]
    }
   ],
   "source": [
    "secret_key = generate_secret_key(IMG_SIZE * IMG_SIZE)\n",
    "print(secret_key.shape)"
   ]
  },
  {
   "cell_type": "markdown",
   "metadata": {},
   "source": [
    "### 2.3) Encrypt 2 images using the same secret key..."
   ]
  },
  {
   "cell_type": "code",
   "execution_count": 19,
   "metadata": {},
   "outputs": [],
   "source": [
    "c1 = encrypt(msg1.flatten(), secret_key)\n",
    "c2 = encrypt(msg2.flatten(), secret_key)"
   ]
  },
  {
   "cell_type": "markdown",
   "metadata": {},
   "source": [
    "We need a small helper function to transform the ciphers back into images"
   ]
  },
  {
   "cell_type": "code",
   "execution_count": 20,
   "metadata": {},
   "outputs": [],
   "source": [
    "binStringToArray = lambda binString: np.array(list(binString), dtype=int)\n",
    "\n",
    "c1_img = binStringToArray(c1).reshape(IMG_SIZE, IMG_SIZE)\n",
    "c2_img = binStringToArray(c2).reshape(IMG_SIZE, IMG_SIZE)"
   ]
  },
  {
   "cell_type": "code",
   "execution_count": 21,
   "metadata": {},
   "outputs": [
    {
     "data": {
      "image/png": "[encoded data removed]",
      "text/plain": [
       "<Figure size 432x288 with 2 Axes>"
      ]
     },
     "metadata": {},
     "output_type": "display_data"
    }
   ],
   "source": [
    "fig, ax = plt.subplots(1,2)\n",
    "ax[0].imshow(c1_img, cmap='Greys'); ax[0].set_xticks([]); ax[0].set_yticks([]); \n",
    "ax[1].imshow(c2_img, cmap='Greys'); ax[1].set_xticks([]); ax[1].set_yticks([]);"
   ]
  },
  {
   "cell_type": "markdown",
   "metadata": {},
   "source": [
    "### 2.4) Exploit the key re-use!\n",
    "\n",
    "Assume that the adversary was able to intercept both ciphers. Even though individually those ciphers reveal absolutely no information about the original images, evaluating $c_1 \\oplus c_2$ allows us to retrieve significant amount of information"
   ]
  },
  {
   "cell_type": "code",
   "execution_count": 22,
   "metadata": {},
   "outputs": [],
   "source": [
    "c1c2 = sequence_XOR(c1, c2)"
   ]
  },
  {
   "cell_type": "code",
   "execution_count": 23,
   "metadata": {},
   "outputs": [
    {
     "data": {
      "image/png": "[encoded data removed]",
      "text/plain": [
       "<Figure size 432x288 with 1 Axes>"
      ]
     },
     "metadata": {},
     "output_type": "display_data"
    }
   ],
   "source": [
    "fig, ax = plt.subplots(1,1)\n",
    "ax.imshow(binStringToArray(c1c2).reshape(IMG_SIZE, IMG_SIZE), cmap='Greys')\n",
    "ax.set_xticks([]); ax.set_yticks([]);"
   ]
  },
  {
   "cell_type": "markdown",
   "metadata": {},
   "source": [
    "This can easily be understood by following the logic below\n",
    "\n",
    "\\begin{equation}\n",
    "\\begin{pmatrix}\n",
    "c_1 = m_1 \\oplus s \\\\\n",
    "c_2 = m_2 \\oplus s\n",
    "\\end{pmatrix} \\,\\, \\Longrightarrow \\,\\, c_1 \\oplus c_2 = m_1 \\oplus m_2 \\oplus s \\oplus s \\quad \\text{so that} \\quad c_1\\oplus c_2 = m_1 \\oplus m_2\n",
    "\\end{equation}\n",
    "\n",
    "This shows that an adversary who intercepts 2 messages encrypted by the same secret key $s$ has direct access to the XOR between the 2 orinigal messages.  In the case of images, it is visually obvious how knowledge of $x_1 \\oplus x_2$ leaks information about the individual $x_1$ and $x_2$.  \n",
    "\n",
    "In general, a significant amount of information can be extracted about the messages for any kind of data modality. \n",
    "\n",
    "## 3) Malleability\n",
    "\n",
    "### 3.1) Going to the ATM...\n",
    "\n",
    "\n",
    "Imagine going to your local ATM to withdraw $10 from your bank account. In order to complete the withdrawal, the ATM may send a encrypted message of the type below to the bank\n",
    "\n",
    "$$\\texttt{Withdraw \\$10 from ... unknown connection and bank details that somehow points to my personal account ...}$$"
   ]
  },
  {
   "cell_type": "code",
   "execution_count": 24,
   "metadata": {},
   "outputs": [
    {
     "name": "stdout",
     "output_type": "stream",
     "text": [
      "\n",
      "encrypted message sent from ATM to the bank =  0100111100001101000010100011110101000100110101111010100001001010011111011001110011111011111100110001101011000000000001111010011010100101110100100011111110101100110000000011111000010011100100000000010111111100110000011101100001100001000001011111000100110001000111001100100010001100110010001010010100001010111001000010010000111101110010101000001111011010100011001000000100100101011110110110110111010110000001000110111111101001110001111111101110011010000010001001100100101011100011101110111011000110000000101100101010001010011001000111010101000010110110001010110001010000111111000011011100010010001000101101010110000010100010100110101010010011000111101010111111000100011010001110011110100011100111111110100010011101\n"
     ]
    }
   ],
   "source": [
    "message = 'Withdraw $10 from ... unknown bank details that somehow points to my personal account ...'\n",
    "\n",
    "secret_key = generate_secret_key(len(message) * 8)\n",
    "\n",
    "real_cipher = encrypt(text2binary(message), secret_key)\n",
    "\n",
    "print('\\nencrypted message sent from ATM to the bank = ', real_cipher)"
   ]
  },
  {
   "cell_type": "markdown",
   "metadata": {},
   "source": [
    "### 3.2) Intercepting and modifying the cipher\n",
    "\n",
    "All we need to know is that the message starts with $\\quad \\texttt{Withdraw \\$10 from} \\quad$ \n",
    "\n",
    "All the rest of the message may contain all kinds of unknown connection and bank specific instructions that eventually lead to my personal account."
   ]
  },
  {
   "cell_type": "code",
   "execution_count": 25,
   "metadata": {},
   "outputs": [],
   "source": [
    "known_submessage = 'Withdraw $10 from'\n",
    "\n",
    "known_numbBits = len(known_submessage) * 8"
   ]
  },
  {
   "cell_type": "markdown",
   "metadata": {},
   "source": [
    "We can prepare a new message that is intended to replace this known part of the original message"
   ]
  },
  {
   "cell_type": "code",
   "execution_count": 26,
   "metadata": {},
   "outputs": [],
   "source": [
    "poisoned_submessage = 'Deposit $10000 to'\n",
    "\n",
    "assert len(poisoned_submessage) * 8 == known_numbBits"
   ]
  },
  {
   "cell_type": "markdown",
   "metadata": {},
   "source": [
    "Prepare a sequence of attack bits in order to modify the cipher sent by the ATM"
   ]
  },
  {
   "cell_type": "code",
   "execution_count": 27,
   "metadata": {},
   "outputs": [],
   "source": [
    "attack_cipher = sequence_XOR(text2binary(known_submessage), text2binary(poisoned_submessage))\n",
    "poisoned_cipher = sequence_XOR(real_cipher[:known_numbBits], attack_cipher)"
   ]
  },
  {
   "cell_type": "markdown",
   "metadata": {},
   "source": [
    "Replace the first few bits of the intercepted ``cipher`` by a poisoned cipher"
   ]
  },
  {
   "cell_type": "code",
   "execution_count": 28,
   "metadata": {},
   "outputs": [],
   "source": [
    "modified_cipher = poisoned_cipher + real_cipher[known_numbBits:]\n",
    "\n",
    "assert len(modified_cipher) == len(real_cipher)"
   ]
  },
  {
   "cell_type": "markdown",
   "metadata": {},
   "source": [
    "### 3.3) The bank gets the modified cipher\n",
    "\n",
    "Assuming that we were fast enough and we were able to modify the ``real_cipher`` and pass forward the ``modified_cipher`` on to the bank, the decrypted message reads"
   ]
  },
  {
   "cell_type": "code",
   "execution_count": 29,
   "metadata": {},
   "outputs": [
    {
     "data": {
      "text/plain": [
       "'Deposit $10000 to ... unknown bank details that somehow points to my personal account ...'"
      ]
     },
     "execution_count": 29,
     "metadata": {},
     "output_type": "execute_result"
    }
   ],
   "source": [
    "binary2text(decrypt(modified_cipher, secret_key))"
   ]
  },
  {
   "cell_type": "markdown",
   "metadata": {},
   "source": [
    "In other words, we have changed the withdrawal message into a new message\n",
    "\n",
    "$$\\texttt{Deposit \\$10000 to ... unknown connection and bank details that somehow points to my personal account ...}$$\n",
    "\n",
    "by modifying the cipher in a targeted way without ever having had access to the secret key"
   ]
  }
 ],
 "metadata": {
  "kernelspec": {
   "display_name": "Python 3",
   "language": "python",
   "name": "python3"
  },
  "language_info": {
   "codemirror_mode": {
    "name": "ipython",
    "version": 3
   },
   "file_extension": ".py",
   "mimetype": "text/x-python",
   "name": "python",
   "nbconvert_exporter": "python",
   "pygments_lexer": "ipython3",
   "version": "3.6.8"
  }
 },
 "nbformat": 4,
 "nbformat_minor": 4
}
